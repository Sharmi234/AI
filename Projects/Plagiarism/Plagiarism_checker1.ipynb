{
  "nbformat": 4,
  "nbformat_minor": 0,
  "metadata": {
    "colab": {
      "provenance": []
    },
    "kernelspec": {
      "name": "python3",
      "display_name": "Python 3"
    },
    "language_info": {
      "name": "python"
    }
  },
  "cells": [
    {
      "cell_type": "code",
      "execution_count": 1,
      "metadata": {
        "id": "oY6kpfmHmaig"
      },
      "outputs": [],
      "source": [
        "from difflib import SequenceMatcher"
      ]
    },
    {
      "cell_type": "code",
      "source": [
        "with open('/content/fatma.txt') as one_file,open('/content/john.txt') as two_file:\n",
        "  data_file1= one_file.read()\n",
        "  data_file2=two_file.read()\n",
        "  matches = SequenceMatcher(None, data_file1,data_file2).ratio()\n",
        "  print(f\" The plagiarized content is {matches*100}%\")\n",
        ""
      ],
      "metadata": {
        "colab": {
          "base_uri": "https://localhost:8080/"
        },
        "id": "WyQpyzxfm3rr",
        "outputId": "7c1fa5e1-a67e-4b66-e407-4af3765ccf04"
      },
      "execution_count": 14,
      "outputs": [
        {
          "output_type": "stream",
          "name": "stdout",
          "text": [
            " The plagiarized content is 45.614035087719294%\n"
          ]
        }
      ]
    },
    {
      "cell_type": "code",
      "source": [
        "with open('/content/fatma.txt') as one_file,open('/content/juma.txt') as third_file:\n",
        "  data_file1= one_file.read()\n",
        "  data_file3=third_file.read()\n",
        "  matches = SequenceMatcher(None, data_file1,data_file3).ratio()\n",
        "  print(f\" The plagiarized content is {matches*100}%\")\n",
        ""
      ],
      "metadata": {
        "colab": {
          "base_uri": "https://localhost:8080/"
        },
        "id": "HhChvhStqHDq",
        "outputId": "f58b5170-7693-47b3-e0d2-fcff63992264"
      },
      "execution_count": 13,
      "outputs": [
        {
          "output_type": "stream",
          "name": "stdout",
          "text": [
            " The plagiarized content is 12.82051282051282%\n"
          ]
        }
      ]
    },
    {
      "cell_type": "code",
      "source": [
        "with open('/content/john.txt') as one_file,open('/content/juma.txt') as third_file:\n",
        "  data_file2= one_file.read()\n",
        "  data_file3=third_file.read()\n",
        "  matches = SequenceMatcher(None, data_file2,data_file3).ratio()\n",
        "  print(f\" The plagiarized content is {matches*100}%\")\n",
        ""
      ],
      "metadata": {
        "colab": {
          "base_uri": "https://localhost:8080/"
        },
        "id": "A79SPCLbqU7Y",
        "outputId": "e5775afe-6d7f-4cc2-9f2d-49d585b744e1"
      },
      "execution_count": 12,
      "outputs": [
        {
          "output_type": "stream",
          "name": "stdout",
          "text": [
            " The plagiarized content is 68.62745098039215%\n"
          ]
        }
      ]
    },
    {
      "cell_type": "code",
      "source": [
        "with open('/content/john.txt') as one_file, open('/content/image.png', 'rb') as fourth_file:\n",
        "  data_file1= one_file.read()\n",
        "  data_file4=fourth_file.read()\n",
        "  matches = SequenceMatcher(None, data_file1,data_file4).ratio()\n",
        "  print(f\" The plagiarized content is {matches*100}%\")"
      ],
      "metadata": {
        "colab": {
          "base_uri": "https://localhost:8080/"
        },
        "id": "PmHaDVa2q9B1",
        "outputId": "196f11c0-cdec-4f6b-a06a-a7ccb82f26f4"
      },
      "execution_count": 11,
      "outputs": [
        {
          "output_type": "stream",
          "name": "stdout",
          "text": [
            " The plagiarized content is 0.0%\n"
          ]
        }
      ]
    },
    {
      "cell_type": "code",
      "source": [],
      "metadata": {
        "id": "EqWVyVSPr8BD"
      },
      "execution_count": null,
      "outputs": []
    }
  ]
}