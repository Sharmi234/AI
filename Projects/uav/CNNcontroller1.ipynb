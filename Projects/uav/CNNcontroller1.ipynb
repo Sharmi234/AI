{
  "nbformat": 4,
  "nbformat_minor": 0,
  "metadata": {
    "colab": {
      "provenance": []
    },
    "kernelspec": {
      "name": "python3",
      "display_name": "Python 3"
    },
    "language_info": {
      "name": "python"
    }
  },
  "cells": [
    {
      "cell_type": "code",
      "execution_count": null,
      "metadata": {
        "id": "qJZ6C5O71KoJ"
      },
      "outputs": [],
      "source": [
        "import airsim\n",
        "import cv2\n",
        "import time\n",
        "import sys\n",
        "import math\n",
        "from math import pi\n",
        "import numpy as np"
      ]
    },
    {
      "cell_type": "code",
      "source": [
        "sys.path.append(\"controller\")\n",
        "sys.path.append(\"controller/cnn\")\n",
        "from CNNModel import CNNModel\n",
        "from Controller import Controller\n",
        "class CNNController(Controller):\n",
        "    def take_action(self, action):\n",
        "        velocity = 1\n",
        "        if (action == 1):\n",
        "            angle = -2 * pi / 20\n",
        "        elif (action == 0):\n",
        "            angle = 0\n",
        "        elif (action == 2):\n",
        "            angle = 2 * pi / 20\n",
        "        self.moveByVolocity(velocity, angle)\n",
        "        return velocity, angle"
      ],
      "metadata": {
        "id": "CuLryleR1Y56"
      },
      "execution_count": null,
      "outputs": []
    },
    {
      "cell_type": "code",
      "source": [
        "def control(self, predict):\n",
        "        self.take_action(np.argmax(predict))\n",
        "\n",
        "cnn_model = CNNModel('controller/cnn/models/CNNModel.json', 'controller/cnn/models/CNNWeight.hdf5')\n",
        "\n",
        "if __name__ == \"__main__\":\n",
        "    cnn_controller = CNNController(airsim.MultirotorClient())\n",
        "    cnn_controller.take_off()\n",
        "    while True:\n",
        "        try:\n",
        "            img = cnn_controller.getRGBImg()\n",
        "            predict = cnn_model.predict(img)\n",
        "            cnn_controller.control(predict)\n",
        "        except KeyboardInterrupt:\n",
        "            break"
      ],
      "metadata": {
        "id": "t_eISmBE1lxu"
      },
      "execution_count": null,
      "outputs": []
    }
  ]
}