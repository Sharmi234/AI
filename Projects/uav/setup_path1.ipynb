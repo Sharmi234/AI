{
  "nbformat": 4,
  "nbformat_minor": 0,
  "metadata": {
    "colab": {
      "provenance": []
    },
    "kernelspec": {
      "name": "python3",
      "display_name": "Python 3"
    },
    "language_info": {
      "name": "python"
    }
  },
  "cells": [
    {
      "cell_type": "code",
      "execution_count": 1,
      "metadata": {
        "id": "ffad14j43V5c"
      },
      "outputs": [],
      "source": [
        "import os,sys,logging"
      ]
    },
    {
      "cell_type": "code",
      "source": [
        "class SetupPath:\n",
        "    def getDirLevels(path):\n",
        "        path_norm = os.path.normpath(path)\n",
        "        return len(path_norm.split(os.sep))"
      ],
      "metadata": {
        "id": "JNzaVnkr3aa2"
      },
      "execution_count": 3,
      "outputs": []
    },
    {
      "cell_type": "code",
      "source": [
        "def getCurrentPath():\n",
        "        cur_filepath = __file__\n",
        "        return os.path.dirname(cur_filepath)"
      ],
      "metadata": {
        "id": "0J6R2fs03fyz"
      },
      "execution_count": 4,
      "outputs": []
    },
    {
      "cell_type": "code",
      "source": [
        "def getGrandParentDir():\n",
        "        cur_path = SetupPath.getCurrentPath()\n",
        "        if SetupPath.getDirLevels(cur_path) >= 2:\n",
        "            return os.path.dirname(os.path.dirname(cur_path))\n",
        "        return"
      ],
      "metadata": {
        "id": "NIT1wgBU3ixz"
      },
      "execution_count": 5,
      "outputs": []
    },
    {
      "cell_type": "code",
      "source": [
        "def getParentDir():\n",
        "        cur_path = SetupPath.getCurrentPath()\n",
        "        if SetupPath.getDirLevels(cur_path) >= 1:\n",
        "            return os.path.dirname(cur_path)\n",
        "        return\n"
      ],
      "metadata": {
        "id": "azALW7hL3nxM"
      },
      "execution_count": 6,
      "outputs": []
    },
    {
      "cell_type": "code",
      "source": [
        "def addAirSimModulePath():\n",
        "        parent = SetupPath.getParentDir()\n",
        "        if parent !=  '':\n",
        "            airsim_path = os.path.join(parent, 'airsim')\n",
        "            client_path = os.path.join(airsim_path, 'client.py')\n",
        "            if os.path.exists(client_path):\n",
        "                sys.path.insert(0, parent)\n",
        "        else:\n",
        "            logging.warning(\"airsim module not found in parent folder. Using installed package (pip install airsim).\")\n",
        "\n",
        "SetupPath.addAirSimModulePath()"
      ],
      "metadata": {
        "id": "f3O5cEYt3stn"
      },
      "execution_count": null,
      "outputs": []
    }
  ]
}