{
  "nbformat": 4,
  "nbformat_minor": 0,
  "metadata": {
    "colab": {
      "provenance": []
    },
    "kernelspec": {
      "name": "python3",
      "display_name": "Python 3"
    },
    "language_info": {
      "name": "python"
    }
  },
  "cells": [
    {
      "cell_type": "code",
      "execution_count": null,
      "metadata": {
        "id": "cPNM02eE2rE8"
      },
      "outputs": [],
      "source": [
        "import airsim\n",
        "import math\n",
        "from airsim import MultirotorClient\n",
        "import sys\n",
        "import cv2\n",
        "import numpy as np"
      ]
    },
    {
      "cell_type": "code",
      "source": [
        "class Controller():\n",
        "    def __init__(self, client):\n",
        "        self.yaw = 0\n",
        "        self.vx = 0\n",
        "        self.vy = 0\n",
        "        self.velocity, self.angle = 1, 0\n",
        "        self.client = client"
      ],
      "metadata": {
        "id": "t0yvX99k22m6"
      },
      "execution_count": null,
      "outputs": []
    },
    {
      "cell_type": "code",
      "source": [
        "def take_off(self):\n",
        "        self.client.confirmConnection()\n",
        "        self.client.enableApiControl(True)\n",
        "        print(\"arming the drone...\")\n",
        "        self.client.armDisarm(True)\n",
        "\n",
        "        landed = self.client.getMultirotorState().landed_state\n",
        "        if landed == airsim.LandedState.Landed:\n",
        "            print(\"taking off...\")\n",
        "            self.client.takeoffAsync().join()"
      ],
      "metadata": {
        "id": "4OMYH6Hj26vx"
      },
      "execution_count": null,
      "outputs": []
    },
    {
      "cell_type": "code",
      "source": [
        "def getRGBImg(self):\n",
        "        rawImage = self.client.simGetImage(\"0\", airsim.ImageType.Scene)\n",
        "        if (rawImage == None):\n",
        "            print(\"Camera is not returning image, please check airsim for error messages\")\n",
        "            sys.exit(0)\n",
        "        else:\n",
        "            try:\n",
        "                png = cv2.imdecode(airsim.string_to_uint8_array(rawImage), cv2.IMREAD_UNCHANGED)\n",
        "                img = cv2.cvtColor(png, cv2.COLOR_RGBA2RGB)\n",
        "                return img\n",
        "            except:\n",
        "                return np.zeros((144, 256, 3))"
      ],
      "metadata": {
        "id": "p8Wng6Cd2-gt"
      },
      "execution_count": null,
      "outputs": []
    },
    {
      "cell_type": "code",
      "source": [
        " def take_action(self, action):\n",
        "        raise NotImplementedError()"
      ],
      "metadata": {
        "id": "hdNTVBYB3B3f"
      },
      "execution_count": null,
      "outputs": []
    },
    {
      "cell_type": "code",
      "source": [
        "def moveByVolocity(self, velocity, angle):\n",
        "        pitch, roll, self.yaw  = airsim.to_eularian_angles(self.client.simGetVehiclePose().orientation)\n",
        "        self.yaw = (self.yaw + angle)\n",
        "        self.vx = velocity *  math.cos(self.yaw)\n",
        "        self.vy = velocity * math.sin(self.yaw)\n",
        "        if (self.vx == 0 and self.vy == 0):\n",
        "            self.vx = velocity * math.cos(self.yaw)\n",
        "            self.vy = velocity * math.sin(self.yaw)\n",
        "        self.client.moveByVelocityZAsync(self.vx, self.vy,-2, 0.5, airsim.DrivetrainType.ForwardOnly, airsim.YawMode(False, 0)).join()"
      ],
      "metadata": {
        "id": "YYGWpYHy3EtB"
      },
      "execution_count": null,
      "outputs": []
    }
  ]
}