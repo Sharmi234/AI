{
  "nbformat": 4,
  "nbformat_minor": 0,
  "metadata": {
    "colab": {
      "provenance": []
    },
    "kernelspec": {
      "name": "python3",
      "display_name": "Python 3"
    },
    "language_info": {
      "name": "python"
    }
  },
  "cells": [
    {
      "cell_type": "code",
      "execution_count": null,
      "metadata": {
        "id": "nAJODtZ32JsB"
      },
      "outputs": [],
      "source": [
        "import sys\n",
        "import cv2\n",
        "import numpy as np\n",
        "from math import pi\n",
        "import keras\n",
        "from keras.models import load_model\n",
        "from keras.models import model_from_json\n",
        "import json"
      ]
    },
    {
      "cell_type": "code",
      "source": [
        "IMAGE_HEIGHT, IMAGE_WIDTH, IMAGE_CHANNELS = 72, 128, 3\n"
      ],
      "metadata": {
        "id": "WPt-IclH2Oxq"
      },
      "execution_count": null,
      "outputs": []
    },
    {
      "cell_type": "code",
      "source": [
        "class CNNModel():\n",
        "    def __init__(self, json_model, weight):\n",
        "        with open(json_model, 'r') as json_file:\n",
        "            loaded_model_json = json.load(json_file)\n",
        "        self.model = model_from_json(loaded_model_json)\n",
        "        self.model.load_weights(weight)"
      ],
      "metadata": {
        "id": "2v506Hgn2S3g"
      },
      "execution_count": null,
      "outputs": []
    },
    {
      "cell_type": "code",
      "source": [
        "def convert_img(self, image):\n",
        "        return cv2.resize(image, (IMAGE_WIDTH, IMAGE_HEIGHT), cv2.INTER_AREA)"
      ],
      "metadata": {
        "id": "N5kAITZC2ZA8"
      },
      "execution_count": null,
      "outputs": []
    },
    {
      "cell_type": "code",
      "source": [
        "def predict(self, img):\n",
        "        img = self.convert_img(img)\n",
        "        img = np.array(img)/255\n",
        "        return self.model.predict(img.reshape(1,72,128,3))"
      ],
      "metadata": {
        "id": "GqwJkN9Z2dLt"
      },
      "execution_count": null,
      "outputs": []
    }
  ]
}